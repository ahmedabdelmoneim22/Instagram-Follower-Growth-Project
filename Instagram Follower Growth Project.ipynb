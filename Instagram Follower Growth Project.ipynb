{
 "cells": [
  {
   "cell_type": "code",
   "execution_count": 1,
   "id": "12351e63",
   "metadata": {},
   "outputs": [],
   "source": [
    "from selenium import webdriver\n",
    "from selenium.webdriver.common.keys import Keys\n",
    "from selenium.common.exceptions import ElementClickInterceptedException\n",
    "import time\n",
    "from selenium.webdriver.common.by import By"
   ]
  },
  {
   "cell_type": "code",
   "execution_count": 16,
   "id": "60b24c02",
   "metadata": {},
   "outputs": [],
   "source": [
    "#driver = webdriver.Chrome()\n",
    "#driver.get('https://www.instagram.com/')\n",
    "#time.sleep(3)\n",
    "##>>Log into Instagram With Facebook. \n",
    "##>>Log in to Facebook.\n",
    "#Log_Facebook = driver.find_element(By.XPATH,'//*[@id=\"loginForm\"]/div/div[5]/button')\n",
    "#Log_Facebook.click()\n",
    "#time.sleep(3)\n",
    "#Log_Text = driver.find_element(By.CLASS_NAME, \"_9axz\")\n",
    "#print(Log_Text.text)\n",
    "#time.sleep(3)\n",
    "#email = driver.find_element(By.ID,\"email\")\n",
    "#email.send_keys(\"ahmedqgqgq@yahoo.com\")\n",
    "#time.sleep(1)\n",
    "#password = driver.find_element(By.ID,\"pass\")\n",
    "#password.send_keys(\"0112603103A\")\n",
    "#time.sleep(1)\n",
    "#LoginButton = driver.find_element(By.ID,\"loginbutton\")\n",
    "#LoginButton.click()\n",
    "#time.sleep(12)\n",
    "#driver.get('https://www.instagram.com/cristiano/')\n",
    "#time.sleep(3)\n",
    "#Click_follower = driver.find_element(By.XPATH,'//*[@id=\"mount_0_0_g5\"]/div/div/div[2]/div/div/div[1]/div[1]/div[2]/div[2]/section/main/div/header/section/ul/li[2]/a')\n",
    "#Click_follower.click()"
   ]
  },
  {
   "cell_type": "code",
   "execution_count": 18,
   "id": "549b3042",
   "metadata": {},
   "outputs": [],
   "source": [
    "from selenium import webdriver\n",
    "from selenium.webdriver.common.keys import Keys\n",
    "from selenium.common.exceptions import ElementClickInterceptedException\n",
    "import time\n",
    "\n",
    "#CHROME_DRIVER_PATH = YOUR CHROM DRIVER PATH\n",
    "SIMILAR_ACCOUNT = \"buzzfeedtasty\"\n",
    "USERNAME = \"***********\"\n",
    "PASSWORD = \"***********\"\n",
    "class InstaFollower:\n",
    "    def __init__(self):\n",
    "        self.driver = webdriver.Chrome()\n",
    "    def login(self):\n",
    "        self.driver.get(\"https://www.instagram.com/accounts/login/\")\n",
    "        time.sleep(5)\n",
    "        username = self.driver.find_element_by_name(\"username\")\n",
    "        password = self.driver.find_element_by_name(\"password\")\n",
    "        username.send_keys(USERNAME)\n",
    "        password.send_keys(PASSWORD)\n",
    "        time.sleep(2)\n",
    "        password.send_keys(Keys.ENTER)\n",
    "    def find_followers(self):\n",
    "        time.sleep(5)\n",
    "        self.driver.get(f\"https://www.instagram.com/{SIMILAR_ACCOUNT}\")\n",
    "        time.sleep(2)\n",
    "        followers = self.driver.find_element_by_xpath('//*[@id=\"react-root\"]/section/main/div/header/section/ul/li[2]/a')\n",
    "        followers.click()\n",
    "        time.sleep(2)\n",
    "        modal = self.driver.find_element_by_xpath('/html/body/div[4]/div/div/div[2]')\n",
    "        for i in range(10):\n",
    "            self.driver.execute_script(\"arguments[0].scrollTop = arguments[0].scrollHeight\", modal)\n",
    "            time.sleep(2)\n",
    "    def follow(self):\n",
    "        all_buttons = self.driver.find_elements_by_css_selector(\"li button\")\n",
    "        for button in all_buttons:\n",
    "            try:\n",
    "                button.click()\n",
    "                time.sleep(1)\n",
    "            except ElementClickInterceptedException:\n",
    "                cancel_button = self.driver.find_element_by_xpath('/html/body/div[5]/div/div/div/div[3]/button[2]')\n",
    "                cancel_button.click()\n",
    "bot = InstaFollower()\n",
    "bot.login()\n",
    "bot.find_followers()\n",
    "bot.follow()"
   ]
  },
  {
   "cell_type": "code",
   "execution_count": null,
   "id": "a5a96fe1",
   "metadata": {},
   "outputs": [],
   "source": []
  }
 ],
 "metadata": {
  "kernelspec": {
   "display_name": "Python 3 (ipykernel)",
   "language": "python",
   "name": "python3"
  },
  "language_info": {
   "codemirror_mode": {
    "name": "ipython",
    "version": 3
   },
   "file_extension": ".py",
   "mimetype": "text/x-python",
   "name": "python",
   "nbconvert_exporter": "python",
   "pygments_lexer": "ipython3",
   "version": "3.9.13"
  }
 },
 "nbformat": 4,
 "nbformat_minor": 5
}
