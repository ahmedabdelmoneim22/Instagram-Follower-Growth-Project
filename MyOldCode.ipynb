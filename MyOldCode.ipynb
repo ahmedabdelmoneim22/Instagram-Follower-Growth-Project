{
 "cells": [
  {
   "cell_type": "code",
   "execution_count": 1,
   "id": "8f5012de",
   "metadata": {},
   "outputs": [
    {
     "ename": "SyntaxError",
     "evalue": "invalid syntax (2358730042.py, line 6)",
     "output_type": "error",
     "traceback": [
      "\u001b[1;36m  File \u001b[1;32m\"C:\\Users\\ahmed\\AppData\\Local\\Temp\\ipykernel_10604\\2358730042.py\"\u001b[1;36m, line \u001b[1;32m6\u001b[0m\n\u001b[1;33m    CHROME_DRIVER_PATH = YOUR CHROM DRIVER PATH\u001b[0m\n\u001b[1;37m                              ^\u001b[0m\n\u001b[1;31mSyntaxError\u001b[0m\u001b[1;31m:\u001b[0m invalid syntax\n"
     ]
    }
   ],
   "source": [
    "from selenium import webdriver\n",
    "from selenium.webdriver.common.keys import Keys\n",
    "from selenium.common.exceptions import ElementClickInterceptedException\n",
    "import time\n",
    "\n",
    "CHROME_DRIVER_PATH = YOUR CHROM DRIVER PATH\n",
    "SIMILAR_ACCOUNT = \"buzzfeedtasty\"\n",
    "USERNAME = YOUR INSTAGRAM USERNAME\n",
    "PASSWORD = YOUR INSTAGRAM PASSWORD\n",
    "\n",
    "\n",
    "class InstaFollower:\n",
    "\n",
    "    def __init__(self, path):\n",
    "        self.driver = webdriver.Chrome(executable_path=path)\n",
    "\n",
    "    def login(self):\n",
    "        self.driver.get(\"https://www.instagram.com/accounts/login/\")\n",
    "        time.sleep(5)\n",
    "\n",
    "        username = self.driver.find_element_by_name(\"username\")\n",
    "        password = self.driver.find_element_by_name(\"password\")\n",
    "\n",
    "        username.send_keys(USERNAME)\n",
    "        password.send_keys(PASSWORD)\n",
    "\n",
    "        time.sleep(2)\n",
    "        password.send_keys(Keys.ENTER)\n",
    "\n",
    "    def find_followers(self):\n",
    "        time.sleep(5)\n",
    "        self.driver.get(f\"https://www.instagram.com/{SIMILAR_ACCOUNT}\")\n",
    "\n",
    "        time.sleep(2)\n",
    "        followers = self.driver.find_element_by_xpath('//*[@id=\"react-root\"]/section/main/div/header/section/ul/li[2]/a')\n",
    "        followers.click()\n",
    "\n",
    "        time.sleep(2)\n",
    "        modal = self.driver.find_element_by_xpath('/html/body/div[4]/div/div/div[2]')\n",
    "        for i in range(10):\n",
    "            self.driver.execute_script(\"arguments[0].scrollTop = arguments[0].scrollHeight\", modal)\n",
    "            time.sleep(2)\n",
    "\n",
    "    def follow(self):\n",
    "        all_buttons = self.driver.find_elements_by_css_selector(\"li button\")\n",
    "        for button in all_buttons:\n",
    "            try:\n",
    "                button.click()\n",
    "                time.sleep(1)\n",
    "            except ElementClickInterceptedException:\n",
    "                cancel_button = self.driver.find_element_by_xpath('/html/body/div[5]/div/div/div/div[3]/button[2]')\n",
    "                cancel_button.click()\n",
    "\n",
    "\n",
    "bot = InstaFollower(CHROME_DRIVER_PATH)\n",
    "bot.login()\n",
    "bot.find_followers()\n",
    "bot.follow()"
   ]
  },
  {
   "cell_type": "code",
   "execution_count": null,
   "id": "1b16f072",
   "metadata": {},
   "outputs": [],
   "source": []
  }
 ],
 "metadata": {
  "kernelspec": {
   "display_name": "Python 3 (ipykernel)",
   "language": "python",
   "name": "python3"
  },
  "language_info": {
   "codemirror_mode": {
    "name": "ipython",
    "version": 3
   },
   "file_extension": ".py",
   "mimetype": "text/x-python",
   "name": "python",
   "nbconvert_exporter": "python",
   "pygments_lexer": "ipython3",
   "version": "3.9.13"
  }
 },
 "nbformat": 4,
 "nbformat_minor": 5
}
